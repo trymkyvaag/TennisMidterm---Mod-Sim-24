{
 "cells": [
  {
   "cell_type": "code",
   "execution_count": null,
   "metadata": {},
   "outputs": [],
   "source": [
    "#File for data cleaning\n",
    "import pandas as pd"
   ]
  },
  {
   "cell_type": "code",
   "execution_count": null,
   "metadata": {},
   "outputs": [],
   "source": [
    "full_df = pd.read_csv(\"Wimbledon_featured_matches.csv\")"
   ]
  },
  {
   "cell_type": "code",
   "execution_count": null,
   "metadata": {},
   "outputs": [],
   "source": [
    "variableList = [\"_ace\",\"_winner\", \"_double_fault\",\"_break_pt_won\",\"_break_pt_missed\", \"unf_err\", ]"
   ]
  },
  {
   "cell_type": "code",
   "execution_count": null,
   "metadata": {},
   "outputs": [],
   "source": [
    "test_df = full_df.loc[full_df[\"match_id\"] == \"2023-wimbledon-1301\"]"
   ]
  },
  {
   "cell_type": "code",
   "execution_count": null,
   "metadata": {},
   "outputs": [],
   "source": [
    "test_df.head(30)"
   ]
  },
  {
   "cell_type": "code",
   "execution_count": null,
   "metadata": {},
   "outputs": [],
   "source": [
    "# score_point_diff = Player_i_points - Player_notI_points\n",
    "# serve_1_i_broken = server == i and p_i_Ace =! 1\n",
    "# P_i_BrealPointToT = BreakPoint - BreakPoint miss\n",
    "\n",
    "\n",
    "\n",
    "def get_row_momentum(row, i):\n",
    "    momentum = 0\n",
    "    not_i = 2 if i == 1 else 1\n",
    "    score_point_diff = row[f\"p{i}_points_won\"] - \\\n",
    "        row[f\"p{not_i}_points_won\"]  # new row\n",
    "    # new row\n",
    "    serve_1_broken = 1 if row[\"server\"] == not_i and row[f\"p{not_i}_ace\"] != 1 else 0\n",
    "    # TODO: add momentum weights to all columns in the row\n",
    "    for variable in variableList:\n",
    "        if(i == 1):\n",
    "            #P1 switch case\n",
    "            break\n",
    "        if(i == 2):\n",
    "            #P2 switch case\n",
    "            break\n",
    "    \n",
    "\n",
    "    # TODO: add new vals in the cols\n",
    "\n",
    "# TODO: add in double faults\n",
    "\n",
    "\n",
    "def get_set_momentum(df, set_num, i):\n",
    "    df_set = df.loc[::, df[\"set\"] == set_num] #FIXXXXXXXXX\n",
    "    for row in df_set:\n",
    "        # TODO: change to create new or alter existing df\n",
    "        # TODO: Winning long rallys\n",
    "        # Create col for set and game momentum\n",
    "        get_row_momentum(row, i)\n",
    "\n",
    "# TODO: create game momentum\n",
    "\n",
    "# TODO: Do something useful w it"
   ]
  },
  {
   "cell_type": "code",
   "execution_count": null,
   "metadata": {},
   "outputs": [],
   "source": [
    "test_row = test_df.iloc[11, :]\n",
    "\n",
    "rally_df = test_df.loc[test_df[\"rally_count\"] > 1]\n",
    "rally_df = rally_df.loc[rally_df[\"server\"] == 2]\n",
    "rally_df = rally_df.loc[rally_df[\"serve_no\"] == 1]"
   ]
  },
  {
   "cell_type": "code",
   "execution_count": null,
   "metadata": {},
   "outputs": [],
   "source": [
    "rally_df[[\"rally_count\", \"server\"]]"
   ]
  },
  {
   "cell_type": "code",
   "execution_count": null,
   "metadata": {},
   "outputs": [],
   "source": [
    "i = 1\n",
    "not_i = 2\n",
    "\n",
    "# score_point_diff = test_row[f\"p{i}_points_won\"] - \\\n",
    "#     test_row[f\"p{not_i}_points_won\"]  # works\n",
    "\n",
    "# serve_1_broken = 1 if test_row[\"server\"] == not_i and test_row[\"rally_count\"] > 1 else 0\n",
    "# WORKS"
   ]
  }
 ],
 "metadata": {
  "kernelspec": {
   "display_name": "Python 3",
   "language": "python",
   "name": "python3"
  },
  "language_info": {
   "codemirror_mode": {
    "name": "ipython",
    "version": 3
   },
   "file_extension": ".py",
   "mimetype": "text/x-python",
   "name": "python",
   "nbconvert_exporter": "python",
   "pygments_lexer": "ipython3",
   "version": "3.10.13"
  }
 },
 "nbformat": 4,
 "nbformat_minor": 2
}
