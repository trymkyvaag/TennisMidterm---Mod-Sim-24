{
 "cells": [
  {
   "cell_type": "code",
   "execution_count": 2,
   "metadata": {},
   "outputs": [],
   "source": [
    "#File for data cleaning\n",
    "import pandas as pd"
   ]
  },
  {
   "cell_type": "code",
   "execution_count": 3,
   "metadata": {},
   "outputs": [
    {
     "data": {
      "text/html": [
       "<div>\n",
       "<style scoped>\n",
       "    .dataframe tbody tr th:only-of-type {\n",
       "        vertical-align: middle;\n",
       "    }\n",
       "\n",
       "    .dataframe tbody tr th {\n",
       "        vertical-align: top;\n",
       "    }\n",
       "\n",
       "    .dataframe thead th {\n",
       "        text-align: right;\n",
       "    }\n",
       "</style>\n",
       "<table border=\"1\" class=\"dataframe\">\n",
       "  <thead>\n",
       "    <tr style=\"text-align: right;\">\n",
       "      <th></th>\n",
       "      <th>0</th>\n",
       "    </tr>\n",
       "  </thead>\n",
       "  <tbody>\n",
       "    <tr>\n",
       "      <th>0</th>\n",
       "      <td>hey</td>\n",
       "    </tr>\n",
       "    <tr>\n",
       "      <th>1</th>\n",
       "      <td>efed</td>\n",
       "    </tr>\n",
       "  </tbody>\n",
       "</table>\n",
       "</div>"
      ],
      "text/plain": [
       "      0\n",
       "0   hey\n",
       "1  efed"
      ]
     },
     "execution_count": 3,
     "metadata": {},
     "output_type": "execute_result"
    }
   ],
   "source": [
    "# score_point_diff = Player_i_points - Player_notI_points\n",
    "# serve_1_i_broken = server == i and p_i_Ace =! 1\n",
    "# P_i_BrealPointToT = BreakPoint - BreakPoint miss \n",
    "\n",
    "\n",
    "def get_row_momentum(row, i):\n",
    "    not_i = 2 if i == 1 else 1\n",
    "    score_point_diff = row[f\"p{i}_points_won\"] - row[f\"p{not_i}_points_won\"]\n",
    "    serve_1_broken = 1 if row[\"server\"] == not_i and row[f\"p{not_i}_ace\"] != 1 else 0\n",
    "    #TODO: add new vals in the cols\n",
    "\n",
    "def get_set_momentum(df, set_num, i):\n",
    "    df_set = df.loc[::, df[\"set\"]  == set_num]\n",
    "    for row in df_set:\n",
    "        #TODO: change to create new or alter existing df \n",
    "        # Create col for set and game momentum \n",
    "        get_row_momentum(row, i)\n",
    "\n",
    "\n",
    "    \n",
    "\n"
   ]
  }
 ],
 "metadata": {
  "kernelspec": {
   "display_name": "Python 3",
   "language": "python",
   "name": "python3"
  },
  "language_info": {
   "codemirror_mode": {
    "name": "ipython",
    "version": 3
   },
   "file_extension": ".py",
   "mimetype": "text/x-python",
   "name": "python",
   "nbconvert_exporter": "python",
   "pygments_lexer": "ipython3",
   "version": "3.10.13"
  }
 },
 "nbformat": 4,
 "nbformat_minor": 2
}
