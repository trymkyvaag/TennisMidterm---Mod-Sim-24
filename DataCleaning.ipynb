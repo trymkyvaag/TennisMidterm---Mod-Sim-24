{
 "cells": [
  {
   "cell_type": "code",
   "execution_count": null,
   "metadata": {},
   "outputs": [],
   "source": [
    "# File for data cleaning\n",
    "import pandas as pd"
   ]
  },
  {
   "cell_type": "code",
   "execution_count": null,
   "metadata": {},
   "outputs": [],
   "source": [
    "full_df = pd.read_csv(\"Wimbledon_featured_matches.csv\")"
   ]
  },
  {
   "cell_type": "code",
   "execution_count": null,
   "metadata": {},
   "outputs": [],
   "source": [
    "def get_row_momentum(row):\n",
    "    # p1_momentum = 0\n",
    "    # p2_momentum = 0\n",
    "    momentum_dict = {\"1\": 0, \"2\": 0}\n",
    "    score_point_diff_p1 = row[\"p1_points_won\"] - row[\"p2_points_won\"]\n",
    "    score_point_diff_p2 = -score_point_diff_p1\n",
    "    p1_break_serve = (\n",
    "        1 if (row[\"server\"] == 2).all() and (row[f\"p2_ace\"] != 1).all() else 0\n",
    "    )\n",
    "    p2_break_serve = (\n",
    "        1 if (row[\"server\"] == 1).all() and (row[f\"p1_ace\"] != 1).all() else 0\n",
    "    )\n",
    "    row[\"serve_player1_broken\"] = p1_break_serve\n",
    "    row[\"serve_player2_broken\"] = p2_break_serve\n",
    "    row[\"p1_point_diff\"] = score_point_diff_p1\n",
    "    row[\"p2_point_diff\"] = score_point_diff_p2\n",
    "\n",
    "    for i in [\"1\", \"2\"]:\n",
    "        not_i = \"1\" if i == \"2\" else \"2\"\n",
    "        if row[f\"p{i}_ace\"].any():\n",
    "            momentum_dict[i] += 1\n",
    "            momentum_dict[not_i] -= 1\n",
    "        if row[f\"p{i}_winner\"].any():\n",
    "            momentum_dict[i] += 1\n",
    "            momentum_dict[not_i] -= 1\n",
    "        if row[f\"p{i}_double_fault\"].any():\n",
    "            momentum_dict[i] -= 1\n",
    "            momentum_dict[not_i] += 1\n",
    "        if row[f\"p{i}_break_pt_won\"].any():\n",
    "            momentum_dict[i] += 1\n",
    "            momentum_dict[not_i] -= 1\n",
    "        if row[f\"p{i}_break_pt_missed\"].any():\n",
    "            momentum_dict[i] -= 1\n",
    "            momentum_dict[not_i] += 1\n",
    "        if row[f\"p{i}_unf_err\"].any():\n",
    "            momentum_dict[i] -= 1\n",
    "            momentum_dict[not_i] += 1\n",
    "        if (row[f\"p{i}_point_diff\"] > 2).any() and (row[f\"p{i}_winner\"]).any():\n",
    "            momentum_dict[i] -= 1\n",
    "            momentum_dict[not_i] += 1\n",
    "        if (row[f\"serve_player{i}_broken\"]).any():\n",
    "            momentum_dict[i] -= 1\n",
    "            momentum_dict[not_i] += 1\n",
    "\n",
    "    row[\"p1_momentum\"] = momentum_dict[\"1\"]\n",
    "    row[\"p2_momentum\"] = momentum_dict[\"2\"]\n",
    "    return row"
   ]
  },
  {
   "cell_type": "code",
   "execution_count": null,
   "metadata": {},
   "outputs": [],
   "source": [
    "# For NOW ONLY GAME\n",
    "columns = [\n",
    "    \"match_id\",\n",
    "    \"player1\",\n",
    "    \"player2\",\n",
    "    \"elapsed_time\",\n",
    "    \"set_no\",\n",
    "    \"game_no\",\n",
    "    \"point_no\",\n",
    "    \"p1_sets\",\n",
    "    \"p2_sets\",\n",
    "    \"p1_games\",\n",
    "    \"p2_games\",\n",
    "    \"p1_points_won\",\n",
    "    \"p2_points_won\",\n",
    "    \"server\",\n",
    "    \"speed_mph\",\n",
    "    \"serve_width\",\n",
    "    \"serve_depth\",\n",
    "    \"return_depth\",\n",
    "    \"serve_player1_broken\",\n",
    "    \"serve_player2_broken\",\n",
    "    \"p1_point_diff\",\n",
    "    \"p2_point_diff\",\n",
    "    \"p1_momentum\",\n",
    "    \"p2_momentum\",\n",
    "]\n",
    "\n",
    "\n",
    "def get_game_momentum(df):\n",
    "    # df_set = df.loc[::, df[\"set\"] == set_num]\n",
    "    new_df = pd.DataFrame(columns=columns)\n",
    "    p1_game_momentum = 0\n",
    "    p2_game_momentum = 0\n",
    "    for index, row in df.iterrows():\n",
    "        row = pd.DataFrame(row).transpose()\n",
    "        new_row = get_row_momentum(row).copy()\n",
    "        p1_game_momentum += new_row[\"p1_momentum\"].item()\n",
    "        p2_game_momentum += new_row[\"p2_momentum\"].item()\n",
    "        a = new_row[\"p1_momentum\"]\n",
    "        # print(f\"p1 gMom: {p1_game_momentum}|p1 rowMOM : {a}\")\n",
    "        new_row[\"p1_cumulative_momentum\"] = p1_game_momentum\n",
    "        new_row[\"p2_cumulative_momentum\"] = p2_game_momentum\n",
    "        new_df = pd.concat([new_df, new_row])\n",
    "    return new_df"
   ]
  },
  {
   "cell_type": "code",
   "execution_count": null,
   "metadata": {},
   "outputs": [],
   "source": [
    "test_df = full_df.loc[full_df[\"match_id\"] == \"2023-wimbledon-1301\"]\n",
    "game_df = get_game_momentum(test_df)\n",
    "game_df"
   ]
  },
  {
   "cell_type": "code",
   "execution_count": null,
   "metadata": {},
   "outputs": [],
   "source": [
    "columns = [\n",
    "    \"match_id\",\n",
    "    \"player1\",\n",
    "    \"player2\",\n",
    "    \"elapsed_time\",\n",
    "    \"set_no\",\n",
    "    \"game_no\",\n",
    "    \"point_no\",\n",
    "    \"p1_sets\",\n",
    "    \"p2_sets\",\n",
    "    \"p1_games\",\n",
    "    \"p2_games\",\n",
    "    \"p1_points_won\",\n",
    "    \"p2_points_won\",\n",
    "    \"server\",\n",
    "    \"speed_mph\",\n",
    "    \"serve_width\",\n",
    "    \"serve_depth\",\n",
    "    \"return_depth\",\n",
    "    \"serve_player1_broken\",\n",
    "    \"serve_player2_broken\",\n",
    "    \"p1_point_diff\",\n",
    "    \"p2_point_diff\",\n",
    "    \"p1_momentum\",\n",
    "    \"p2_momentum\",\n",
    "    \"p1_cumulative_momentum\",\n",
    "    \"p2_cumulative_momentum\",\n",
    "]\n",
    "\n",
    "\n",
    "def create_df(df):\n",
    "    new_df = pd.DataFrame(columns=columns)\n",
    "    for id in df[\"match_id\"].unique():\n",
    "        # print(id)\n",
    "        tmp = df.loc[df[\"match_id\"] == id].copy()\n",
    "        # print(tmp)\n",
    "        game_df = get_game_momentum(tmp)\n",
    "        new_df = pd.concat([new_df, game_df])\n",
    "    return new_df"
   ]
  },
  {
   "cell_type": "code",
   "execution_count": null,
   "metadata": {},
   "outputs": [],
   "source": [
    "# new_full_df = create_df(full_df) # DO NOT RUN"
   ]
  },
  {
   "cell_type": "code",
   "execution_count": null,
   "metadata": {},
   "outputs": [],
   "source": [
    "# new_full_df.to_excel(\"output.xlsx\", index=False)  # DO NOT RUN"
   ]
  },
  {
   "cell_type": "code",
   "execution_count": null,
   "metadata": {},
   "outputs": [],
   "source": [
    "import matplotlib.pyplot as plt"
   ]
  },
  {
   "cell_type": "code",
   "execution_count": null,
   "metadata": {},
   "outputs": [],
   "source": [
    "x = game_df[\"elapsed_time\"]\n",
    "y1 = game_df[\"p1_cumulative_momentum\"]\n",
    "y2 = game_df[\"p2_cumulative_momentum\"]\n",
    "y3 = game_df[\"p1_games\"]\n",
    "y4 = game_df[\"p2_games\"]\n",
    "y5 = game_df[\"p1_sets\"]\n",
    "y6 = game_df[\"p2_sets\"]"
   ]
  },
  {
   "cell_type": "code",
   "execution_count": null,
   "metadata": {},
   "outputs": [],
   "source": [
    "plt.plot(x, y1)\n",
    "plt.plot(x, y2)\n",
    "\n",
    "\n",
    "plt.plot(x, y3 * 5, linestyle=\"--\")\n",
    "\n",
    "\n",
    "plt.plot(x, y4 * 5, linestyle=\"-.\")\n",
    "\n",
    "\n",
    "# plt.plot(x, y5 * 10, linestyle=\":\")\n",
    "\n",
    "# plt.plot(x, y6 * 10, linestyle=\":\")\n",
    "\n",
    "plt.xlabel(\"Time Elapsed\")\n",
    "plt.ylabel(\"Momentum\")\n",
    "plt.title(\"Test Game momentum\")\n",
    "# , \"P1- set\", \"P2 -set\"])\n",
    "plt.legend([\"P1\", \"P2\", \"P1-game-points\", \"P2-game-points\"])\n",
    "\n",
    "plt.show()"
   ]
  }
 ],
 "metadata": {
  "kernelspec": {
   "display_name": "Python 3",
   "language": "python",
   "name": "python3"
  },
  "language_info": {
   "codemirror_mode": {
    "name": "ipython",
    "version": 3
   },
   "file_extension": ".py",
   "mimetype": "text/x-python",
   "name": "python",
   "nbconvert_exporter": "python",
   "pygments_lexer": "ipython3",
   "version": "3.10.13"
  }
 },
 "nbformat": 4,
 "nbformat_minor": 2
}
